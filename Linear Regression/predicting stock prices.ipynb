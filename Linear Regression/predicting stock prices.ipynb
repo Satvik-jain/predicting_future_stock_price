{
 "cells": [
  {
   "cell_type": "code",
   "execution_count": 1,
   "id": "7fec69e8",
   "metadata": {},
   "outputs": [],
   "source": [
    "import numpy as np\n",
    "import matplotlib.pyplot as plt\n",
    "import pandas as pd\n",
    "from sklearn.model_selection import train_test_split\n",
    "from sklearn.linear_model import LinearRegression\n",
    "from datetime import date\n",
    "import seaborn as sns"
   ]
  },
  {
   "cell_type": "code",
   "execution_count": 2,
   "id": "3227b088-2019-45fe-898c-cb1bd3e33873",
   "metadata": {},
   "outputs": [],
   "source": [
    "df = pd.read_csv(\"RELIANCE.csv\")"
   ]
  },
  {
   "cell_type": "markdown",
   "id": "79bf2a8e-6f5b-4918-b420-fd3d5e5a5653",
   "metadata": {},
   "source": [
    "# Task 1"
   ]
  },
  {
   "cell_type": "code",
   "execution_count": 3,
   "id": "95821591-4f87-4401-8524-ed0858441bb8",
   "metadata": {},
   "outputs": [
    {
     "name": "stdout",
     "output_type": "stream",
     "text": [
      "<class 'pandas.core.frame.DataFrame'>\n",
      "RangeIndex: 3350 entries, 0 to 3349\n",
      "Data columns (total 7 columns):\n",
      " #   Column     Non-Null Count  Dtype  \n",
      "---  ------     --------------  -----  \n",
      " 0   Date       3350 non-null   object \n",
      " 1   Open       3343 non-null   float64\n",
      " 2   High       3343 non-null   float64\n",
      " 3   Low        3343 non-null   float64\n",
      " 4   Close      3343 non-null   float64\n",
      " 5   Adj Close  3343 non-null   float64\n",
      " 6   Volume     3343 non-null   float64\n",
      "dtypes: float64(6), object(1)\n",
      "memory usage: 183.3+ KB\n"
     ]
    }
   ],
   "source": [
    "df.info()   # from here it is quite visible that open, close, low, high contain 7 null values"
   ]
  },
  {
   "cell_type": "code",
   "execution_count": 4,
   "id": "fc9b094c-176e-46fe-a82e-a739b184c950",
   "metadata": {},
   "outputs": [
    {
     "data": {
      "text/html": [
       "<div>\n",
       "<style scoped>\n",
       "    .dataframe tbody tr th:only-of-type {\n",
       "        vertical-align: middle;\n",
       "    }\n",
       "\n",
       "    .dataframe tbody tr th {\n",
       "        vertical-align: top;\n",
       "    }\n",
       "\n",
       "    .dataframe thead th {\n",
       "        text-align: right;\n",
       "    }\n",
       "</style>\n",
       "<table border=\"1\" class=\"dataframe\">\n",
       "  <thead>\n",
       "    <tr style=\"text-align: right;\">\n",
       "      <th></th>\n",
       "      <th>Date</th>\n",
       "      <th>Open</th>\n",
       "      <th>High</th>\n",
       "      <th>Low</th>\n",
       "      <th>Close</th>\n",
       "      <th>Adj Close</th>\n",
       "      <th>Volume</th>\n",
       "    </tr>\n",
       "  </thead>\n",
       "  <tbody>\n",
       "    <tr>\n",
       "      <th>24</th>\n",
       "      <td>2010-02-06</td>\n",
       "      <td>NaN</td>\n",
       "      <td>NaN</td>\n",
       "      <td>NaN</td>\n",
       "      <td>NaN</td>\n",
       "      <td>NaN</td>\n",
       "      <td>NaN</td>\n",
       "    </tr>\n",
       "    <tr>\n",
       "      <th>502</th>\n",
       "      <td>2012-01-07</td>\n",
       "      <td>NaN</td>\n",
       "      <td>NaN</td>\n",
       "      <td>NaN</td>\n",
       "      <td>NaN</td>\n",
       "      <td>NaN</td>\n",
       "      <td>NaN</td>\n",
       "    </tr>\n",
       "    <tr>\n",
       "      <th>541</th>\n",
       "      <td>2012-03-03</td>\n",
       "      <td>NaN</td>\n",
       "      <td>NaN</td>\n",
       "      <td>NaN</td>\n",
       "      <td>NaN</td>\n",
       "      <td>NaN</td>\n",
       "      <td>NaN</td>\n",
       "    </tr>\n",
       "    <tr>\n",
       "      <th>671</th>\n",
       "      <td>2012-09-08</td>\n",
       "      <td>NaN</td>\n",
       "      <td>NaN</td>\n",
       "      <td>NaN</td>\n",
       "      <td>NaN</td>\n",
       "      <td>NaN</td>\n",
       "      <td>NaN</td>\n",
       "    </tr>\n",
       "    <tr>\n",
       "      <th>713</th>\n",
       "      <td>2012-11-11</td>\n",
       "      <td>NaN</td>\n",
       "      <td>NaN</td>\n",
       "      <td>NaN</td>\n",
       "      <td>NaN</td>\n",
       "      <td>NaN</td>\n",
       "      <td>NaN</td>\n",
       "    </tr>\n",
       "    <tr>\n",
       "      <th>1050</th>\n",
       "      <td>2014-03-22</td>\n",
       "      <td>NaN</td>\n",
       "      <td>NaN</td>\n",
       "      <td>NaN</td>\n",
       "      <td>NaN</td>\n",
       "      <td>NaN</td>\n",
       "      <td>NaN</td>\n",
       "    </tr>\n",
       "    <tr>\n",
       "      <th>1279</th>\n",
       "      <td>2015-02-28</td>\n",
       "      <td>NaN</td>\n",
       "      <td>NaN</td>\n",
       "      <td>NaN</td>\n",
       "      <td>NaN</td>\n",
       "      <td>NaN</td>\n",
       "      <td>NaN</td>\n",
       "    </tr>\n",
       "  </tbody>\n",
       "</table>\n",
       "</div>"
      ],
      "text/plain": [
       "            Date  Open  High  Low  Close  Adj Close  Volume\n",
       "24    2010-02-06   NaN   NaN  NaN    NaN        NaN     NaN\n",
       "502   2012-01-07   NaN   NaN  NaN    NaN        NaN     NaN\n",
       "541   2012-03-03   NaN   NaN  NaN    NaN        NaN     NaN\n",
       "671   2012-09-08   NaN   NaN  NaN    NaN        NaN     NaN\n",
       "713   2012-11-11   NaN   NaN  NaN    NaN        NaN     NaN\n",
       "1050  2014-03-22   NaN   NaN  NaN    NaN        NaN     NaN\n",
       "1279  2015-02-28   NaN   NaN  NaN    NaN        NaN     NaN"
      ]
     },
     "execution_count": 4,
     "metadata": {},
     "output_type": "execute_result"
    }
   ],
   "source": [
    "df[df.Close.isnull()]"
   ]
  },
  {
   "cell_type": "code",
   "execution_count": 5,
   "id": "da6b3337-9fed-4871-b9ed-d663492f3357",
   "metadata": {},
   "outputs": [],
   "source": [
    "# so I will remove all the nulls\n",
    "df = df.dropna()"
   ]
  },
  {
   "cell_type": "code",
   "execution_count": 6,
   "id": "7926c54b-3b05-4922-922a-2a352a069494",
   "metadata": {},
   "outputs": [
    {
     "name": "stdout",
     "output_type": "stream",
     "text": [
      "<class 'pandas.core.frame.DataFrame'>\n",
      "Index: 3343 entries, 0 to 3349\n",
      "Data columns (total 7 columns):\n",
      " #   Column     Non-Null Count  Dtype  \n",
      "---  ------     --------------  -----  \n",
      " 0   Date       3343 non-null   object \n",
      " 1   Open       3343 non-null   float64\n",
      " 2   High       3343 non-null   float64\n",
      " 3   Low        3343 non-null   float64\n",
      " 4   Close      3343 non-null   float64\n",
      " 5   Adj Close  3343 non-null   float64\n",
      " 6   Volume     3343 non-null   float64\n",
      "dtypes: float64(6), object(1)\n",
      "memory usage: 208.9+ KB\n"
     ]
    }
   ],
   "source": [
    "df.info() # now all the nulls are removed"
   ]
  },
  {
   "cell_type": "markdown",
   "id": "314116b1-c995-4961-86f9-125f8eeb8edd",
   "metadata": {},
   "source": [
    "##### So Task 1 is completed. "
   ]
  },
  {
   "cell_type": "markdown",
   "id": "a2a6f61b-6a1f-41ce-9364-623efacc3718",
   "metadata": {},
   "source": [
    "# Task 2"
   ]
  },
  {
   "cell_type": "code",
   "execution_count": 7,
   "id": "5bf0fa10-24e2-4119-b6d1-0c5198fc14bf",
   "metadata": {},
   "outputs": [],
   "source": [
    "# now as i have to train data to 3 months and test to 1 month.\n",
    "# so i will extract 4 months of data\n",
    "# i will take from 2023-03-18 to 2023-07-18\n",
    "\n",
    "df = df[(df.Date > '2023-03-18') & (df.Date < '2023-07-18')]"
   ]
  },
  {
   "cell_type": "code",
   "execution_count": 8,
   "id": "ef62f37f-6284-4362-8a88-32a1ec909f7a",
   "metadata": {},
   "outputs": [
    {
     "data": {
      "text/html": [
       "<div>\n",
       "<style scoped>\n",
       "    .dataframe tbody tr th:only-of-type {\n",
       "        vertical-align: middle;\n",
       "    }\n",
       "\n",
       "    .dataframe tbody tr th {\n",
       "        vertical-align: top;\n",
       "    }\n",
       "\n",
       "    .dataframe thead th {\n",
       "        text-align: right;\n",
       "    }\n",
       "</style>\n",
       "<table border=\"1\" class=\"dataframe\">\n",
       "  <thead>\n",
       "    <tr style=\"text-align: right;\">\n",
       "      <th></th>\n",
       "      <th>Date</th>\n",
       "      <th>Open</th>\n",
       "      <th>High</th>\n",
       "      <th>Low</th>\n",
       "      <th>Close</th>\n",
       "      <th>Adj Close</th>\n",
       "      <th>Volume</th>\n",
       "    </tr>\n",
       "  </thead>\n",
       "  <tbody>\n",
       "    <tr>\n",
       "      <th>3269</th>\n",
       "      <td>2023-03-20</td>\n",
       "      <td>2215.000000</td>\n",
       "      <td>2220.000000</td>\n",
       "      <td>2180.000000</td>\n",
       "      <td>2201.250000</td>\n",
       "      <td>2201.250000</td>\n",
       "      <td>9010595.0</td>\n",
       "    </tr>\n",
       "    <tr>\n",
       "      <th>3270</th>\n",
       "      <td>2023-03-21</td>\n",
       "      <td>2218.949951</td>\n",
       "      <td>2274.000000</td>\n",
       "      <td>2217.000000</td>\n",
       "      <td>2269.699951</td>\n",
       "      <td>2269.699951</td>\n",
       "      <td>9876263.0</td>\n",
       "    </tr>\n",
       "    <tr>\n",
       "      <th>3271</th>\n",
       "      <td>2023-03-22</td>\n",
       "      <td>2285.000000</td>\n",
       "      <td>2291.449951</td>\n",
       "      <td>2270.000000</td>\n",
       "      <td>2276.600098</td>\n",
       "      <td>2276.600098</td>\n",
       "      <td>5039622.0</td>\n",
       "    </tr>\n",
       "    <tr>\n",
       "      <th>3272</th>\n",
       "      <td>2023-03-23</td>\n",
       "      <td>2268.000000</td>\n",
       "      <td>2269.899902</td>\n",
       "      <td>2243.050049</td>\n",
       "      <td>2247.800049</td>\n",
       "      <td>2247.800049</td>\n",
       "      <td>7499082.0</td>\n",
       "    </tr>\n",
       "    <tr>\n",
       "      <th>3273</th>\n",
       "      <td>2023-03-24</td>\n",
       "      <td>2245.250000</td>\n",
       "      <td>2250.000000</td>\n",
       "      <td>2198.000000</td>\n",
       "      <td>2203.300049</td>\n",
       "      <td>2203.300049</td>\n",
       "      <td>5711497.0</td>\n",
       "    </tr>\n",
       "    <tr>\n",
       "      <th>...</th>\n",
       "      <td>...</td>\n",
       "      <td>...</td>\n",
       "      <td>...</td>\n",
       "      <td>...</td>\n",
       "      <td>...</td>\n",
       "      <td>...</td>\n",
       "      <td>...</td>\n",
       "    </tr>\n",
       "    <tr>\n",
       "      <th>3344</th>\n",
       "      <td>2023-07-11</td>\n",
       "      <td>2752.899902</td>\n",
       "      <td>2770.000000</td>\n",
       "      <td>2737.600098</td>\n",
       "      <td>2764.699951</td>\n",
       "      <td>2764.699951</td>\n",
       "      <td>9262001.0</td>\n",
       "    </tr>\n",
       "    <tr>\n",
       "      <th>3345</th>\n",
       "      <td>2023-07-12</td>\n",
       "      <td>2766.300049</td>\n",
       "      <td>2802.000000</td>\n",
       "      <td>2761.649902</td>\n",
       "      <td>2767.750000</td>\n",
       "      <td>2767.750000</td>\n",
       "      <td>8645662.0</td>\n",
       "    </tr>\n",
       "    <tr>\n",
       "      <th>3346</th>\n",
       "      <td>2023-07-13</td>\n",
       "      <td>2783.899902</td>\n",
       "      <td>2799.000000</td>\n",
       "      <td>2737.250000</td>\n",
       "      <td>2743.000000</td>\n",
       "      <td>2743.000000</td>\n",
       "      <td>6776172.0</td>\n",
       "    </tr>\n",
       "    <tr>\n",
       "      <th>3347</th>\n",
       "      <td>2023-07-14</td>\n",
       "      <td>2750.000000</td>\n",
       "      <td>2760.899902</td>\n",
       "      <td>2725.100098</td>\n",
       "      <td>2740.699951</td>\n",
       "      <td>2740.699951</td>\n",
       "      <td>6979790.0</td>\n",
       "    </tr>\n",
       "    <tr>\n",
       "      <th>3348</th>\n",
       "      <td>2023-07-17</td>\n",
       "      <td>2747.000000</td>\n",
       "      <td>2815.050049</td>\n",
       "      <td>2728.000000</td>\n",
       "      <td>2796.699951</td>\n",
       "      <td>2796.699951</td>\n",
       "      <td>10254545.0</td>\n",
       "    </tr>\n",
       "  </tbody>\n",
       "</table>\n",
       "<p>80 rows × 7 columns</p>\n",
       "</div>"
      ],
      "text/plain": [
       "            Date         Open         High          Low        Close  \\\n",
       "3269  2023-03-20  2215.000000  2220.000000  2180.000000  2201.250000   \n",
       "3270  2023-03-21  2218.949951  2274.000000  2217.000000  2269.699951   \n",
       "3271  2023-03-22  2285.000000  2291.449951  2270.000000  2276.600098   \n",
       "3272  2023-03-23  2268.000000  2269.899902  2243.050049  2247.800049   \n",
       "3273  2023-03-24  2245.250000  2250.000000  2198.000000  2203.300049   \n",
       "...          ...          ...          ...          ...          ...   \n",
       "3344  2023-07-11  2752.899902  2770.000000  2737.600098  2764.699951   \n",
       "3345  2023-07-12  2766.300049  2802.000000  2761.649902  2767.750000   \n",
       "3346  2023-07-13  2783.899902  2799.000000  2737.250000  2743.000000   \n",
       "3347  2023-07-14  2750.000000  2760.899902  2725.100098  2740.699951   \n",
       "3348  2023-07-17  2747.000000  2815.050049  2728.000000  2796.699951   \n",
       "\n",
       "        Adj Close      Volume  \n",
       "3269  2201.250000   9010595.0  \n",
       "3270  2269.699951   9876263.0  \n",
       "3271  2276.600098   5039622.0  \n",
       "3272  2247.800049   7499082.0  \n",
       "3273  2203.300049   5711497.0  \n",
       "...           ...         ...  \n",
       "3344  2764.699951   9262001.0  \n",
       "3345  2767.750000   8645662.0  \n",
       "3346  2743.000000   6776172.0  \n",
       "3347  2740.699951   6979790.0  \n",
       "3348  2796.699951  10254545.0  \n",
       "\n",
       "[80 rows x 7 columns]"
      ]
     },
     "execution_count": 8,
     "metadata": {},
     "output_type": "execute_result"
    }
   ],
   "source": [
    "df"
   ]
  },
  {
   "cell_type": "code",
   "execution_count": 9,
   "id": "15a11dbd-56bb-4980-ace1-025e1f38b19e",
   "metadata": {},
   "outputs": [],
   "source": [
    "# I choose Open to predict closing price of the stock.\n",
    "df = df[['Open','Close']]"
   ]
  },
  {
   "cell_type": "code",
   "execution_count": 10,
   "id": "c2bad94f-ea58-405e-95c7-1d7c5a91aa40",
   "metadata": {},
   "outputs": [
    {
     "data": {
      "text/html": [
       "<div>\n",
       "<style scoped>\n",
       "    .dataframe tbody tr th:only-of-type {\n",
       "        vertical-align: middle;\n",
       "    }\n",
       "\n",
       "    .dataframe tbody tr th {\n",
       "        vertical-align: top;\n",
       "    }\n",
       "\n",
       "    .dataframe thead th {\n",
       "        text-align: right;\n",
       "    }\n",
       "</style>\n",
       "<table border=\"1\" class=\"dataframe\">\n",
       "  <thead>\n",
       "    <tr style=\"text-align: right;\">\n",
       "      <th></th>\n",
       "      <th>Open</th>\n",
       "      <th>Close</th>\n",
       "    </tr>\n",
       "  </thead>\n",
       "  <tbody>\n",
       "    <tr>\n",
       "      <th>0</th>\n",
       "      <td>2215.000000</td>\n",
       "      <td>2201.250000</td>\n",
       "    </tr>\n",
       "    <tr>\n",
       "      <th>1</th>\n",
       "      <td>2218.949951</td>\n",
       "      <td>2269.699951</td>\n",
       "    </tr>\n",
       "    <tr>\n",
       "      <th>2</th>\n",
       "      <td>2285.000000</td>\n",
       "      <td>2276.600098</td>\n",
       "    </tr>\n",
       "    <tr>\n",
       "      <th>3</th>\n",
       "      <td>2268.000000</td>\n",
       "      <td>2247.800049</td>\n",
       "    </tr>\n",
       "    <tr>\n",
       "      <th>4</th>\n",
       "      <td>2245.250000</td>\n",
       "      <td>2203.300049</td>\n",
       "    </tr>\n",
       "    <tr>\n",
       "      <th>...</th>\n",
       "      <td>...</td>\n",
       "      <td>...</td>\n",
       "    </tr>\n",
       "    <tr>\n",
       "      <th>75</th>\n",
       "      <td>2752.899902</td>\n",
       "      <td>2764.699951</td>\n",
       "    </tr>\n",
       "    <tr>\n",
       "      <th>76</th>\n",
       "      <td>2766.300049</td>\n",
       "      <td>2767.750000</td>\n",
       "    </tr>\n",
       "    <tr>\n",
       "      <th>77</th>\n",
       "      <td>2783.899902</td>\n",
       "      <td>2743.000000</td>\n",
       "    </tr>\n",
       "    <tr>\n",
       "      <th>78</th>\n",
       "      <td>2750.000000</td>\n",
       "      <td>2740.699951</td>\n",
       "    </tr>\n",
       "    <tr>\n",
       "      <th>79</th>\n",
       "      <td>2747.000000</td>\n",
       "      <td>2796.699951</td>\n",
       "    </tr>\n",
       "  </tbody>\n",
       "</table>\n",
       "<p>80 rows × 2 columns</p>\n",
       "</div>"
      ],
      "text/plain": [
       "           Open        Close\n",
       "0   2215.000000  2201.250000\n",
       "1   2218.949951  2269.699951\n",
       "2   2285.000000  2276.600098\n",
       "3   2268.000000  2247.800049\n",
       "4   2245.250000  2203.300049\n",
       "..          ...          ...\n",
       "75  2752.899902  2764.699951\n",
       "76  2766.300049  2767.750000\n",
       "77  2783.899902  2743.000000\n",
       "78  2750.000000  2740.699951\n",
       "79  2747.000000  2796.699951\n",
       "\n",
       "[80 rows x 2 columns]"
      ]
     },
     "execution_count": 10,
     "metadata": {},
     "output_type": "execute_result"
    }
   ],
   "source": [
    "df.reset_index(drop = True)"
   ]
  },
  {
   "cell_type": "code",
   "execution_count": 11,
   "id": "0386474b-9657-490a-b89b-03f8ef151c55",
   "metadata": {},
   "outputs": [],
   "source": [
    "lr = LinearRegression()"
   ]
  },
  {
   "cell_type": "code",
   "execution_count": 12,
   "id": "91fb10ea-4aa1-48b9-b1dd-b3c6da9c7c14",
   "metadata": {},
   "outputs": [],
   "source": [
    "y = df['Close']\n",
    "x = df['Open']\n",
    "x_train, x_test, y_train, y_test = train_test_split(x,y, test_size = 0.25)\n",
    "x_train = np.array(x_train).reshape(-1,1)\n",
    "x_test = np.array(x_test).reshape(-1,1)"
   ]
  },
  {
   "cell_type": "code",
   "execution_count": 13,
   "id": "2671c7fa-62e5-48e7-8b0b-5c5c9889dbc6",
   "metadata": {},
   "outputs": [],
   "source": [
    "lr.fit(x_train,y_train);"
   ]
  },
  {
   "cell_type": "code",
   "execution_count": 14,
   "id": "d282c0b6-91d7-431b-a745-306d1c7436a7",
   "metadata": {},
   "outputs": [
    {
     "data": {
      "image/png": "[encoded data removed]",
      "text/plain": [
       "<Figure size 640x480 with 1 Axes>"
      ]
     },
     "metadata": {},
     "output_type": "display_data"
    }
   ],
   "source": [
    "# now we have trained our model\n",
    "y_pred_train = lr.predict(x_train)\n",
    "plt.scatter(x_train,y_train)\n",
    "plt.plot(x_train,y_pred_train,color= 'red')\n",
    "plt.xlabel(\"Open\")\n",
    "plt.ylabel(\"Close\");"
   ]
  },
  {
   "cell_type": "code",
   "execution_count": 15,
   "id": "1c2cce6c-4be4-42df-893a-da0bb8fe565a",
   "metadata": {},
   "outputs": [],
   "source": [
    "y_pred_test = lr.predict(x_test)"
   ]
  },
  {
   "cell_type": "code",
   "execution_count": 16,
   "id": "0b9c8aa4-6ede-4d51-b10c-16a2b8151cdc",
   "metadata": {},
   "outputs": [
    {
     "data": {
      "image/png": "[encoded data removed]",
      "text/plain": [
       "<Figure size 640x480 with 1 Axes>"
      ]
     },
     "metadata": {},
     "output_type": "display_data"
    }
   ],
   "source": [
    "# so y_pred_test is the predicted data and y_test is the actual data\n",
    "# plotting the predicted vs actual data\n",
    "plt.plot(x_test,y_pred_test, color='red')\n",
    "plt.scatter(x_test,y_test)\n",
    "plt.xlabel(\"Open\")\n",
    "plt.ylabel('Close');"
   ]
  },
  {
   "cell_type": "code",
   "execution_count": 17,
   "id": "c3d7b180-cef3-4513-ac9a-e401d8b2e09a",
   "metadata": {
    "scrolled": true
   },
   "outputs": [
    {
     "data": {
      "image/png": "[encoded data removed]",
      "text/plain": [
       "<Figure size 640x480 with 1 Axes>"
      ]
     },
     "metadata": {},
     "output_type": "display_data"
    }
   ],
   "source": [
    "plt.scatter(x_test,y_pred_test, color='red')\n",
    "plt.scatter(x_test,y_test, color = \"green\")\n",
    "plt.xlabel(\"Open\")\n",
    "plt.ylabel('Close');"
   ]
  },
  {
   "cell_type": "code",
   "execution_count": 18,
   "id": "bc574fba-7a18-4476-af94-36a716389511",
   "metadata": {},
   "outputs": [],
   "source": [
    "# creating a new data frame with \n",
    "df2 = pd.DataFrame({\n",
    "    \"Predicted_Close\" : y_pred_test,\n",
    "    \"Actual_Close\" : y_test\n",
    "})"
   ]
  },
  {
   "cell_type": "code",
   "execution_count": 19,
   "id": "d448903f-744b-4f03-aca4-2652553cbf4d",
   "metadata": {},
   "outputs": [
    {
     "data": {
      "text/html": [
       "<div>\n",
       "<style scoped>\n",
       "    .dataframe tbody tr th:only-of-type {\n",
       "        vertical-align: middle;\n",
       "    }\n",
       "\n",
       "    .dataframe tbody tr th {\n",
       "        vertical-align: top;\n",
       "    }\n",
       "\n",
       "    .dataframe thead th {\n",
       "        text-align: right;\n",
       "    }\n",
       "</style>\n",
       "<table border=\"1\" class=\"dataframe\">\n",
       "  <thead>\n",
       "    <tr style=\"text-align: right;\">\n",
       "      <th></th>\n",
       "      <th>Predicted_Close</th>\n",
       "      <th>Actual_Close</th>\n",
       "    </tr>\n",
       "  </thead>\n",
       "  <tbody>\n",
       "    <tr>\n",
       "      <th>0</th>\n",
       "      <td>2215.427875</td>\n",
       "      <td>2201.250000</td>\n",
       "    </tr>\n",
       "    <tr>\n",
       "      <th>1</th>\n",
       "      <td>2245.451380</td>\n",
       "      <td>2248.000000</td>\n",
       "    </tr>\n",
       "    <tr>\n",
       "      <th>2</th>\n",
       "      <td>2348.532081</td>\n",
       "      <td>2325.850098</td>\n",
       "    </tr>\n",
       "    <tr>\n",
       "      <th>3</th>\n",
       "      <td>2334.521112</td>\n",
       "      <td>2336.350098</td>\n",
       "    </tr>\n",
       "    <tr>\n",
       "      <th>4</th>\n",
       "      <td>2339.575117</td>\n",
       "      <td>2352.000000</td>\n",
       "    </tr>\n",
       "    <tr>\n",
       "      <th>5</th>\n",
       "      <td>2353.535998</td>\n",
       "      <td>2355.500000</td>\n",
       "    </tr>\n",
       "    <tr>\n",
       "      <th>6</th>\n",
       "      <td>2366.546184</td>\n",
       "      <td>2376.050049</td>\n",
       "    </tr>\n",
       "    <tr>\n",
       "      <th>7</th>\n",
       "      <td>2375.553235</td>\n",
       "      <td>2377.050049</td>\n",
       "    </tr>\n",
       "    <tr>\n",
       "      <th>8</th>\n",
       "      <td>2494.646472</td>\n",
       "      <td>2453.800049</td>\n",
       "    </tr>\n",
       "    <tr>\n",
       "      <th>9</th>\n",
       "      <td>2450.611998</td>\n",
       "      <td>2471.899902</td>\n",
       "    </tr>\n",
       "    <tr>\n",
       "      <th>10</th>\n",
       "      <td>2484.088157</td>\n",
       "      <td>2479.350098</td>\n",
       "    </tr>\n",
       "    <tr>\n",
       "      <th>11</th>\n",
       "      <td>2499.600301</td>\n",
       "      <td>2480.300049</td>\n",
       "    </tr>\n",
       "    <tr>\n",
       "      <th>12</th>\n",
       "      <td>2476.131977</td>\n",
       "      <td>2484.149902</td>\n",
       "    </tr>\n",
       "    <tr>\n",
       "      <th>13</th>\n",
       "      <td>2497.098343</td>\n",
       "      <td>2496.449951</td>\n",
       "    </tr>\n",
       "    <tr>\n",
       "      <th>14</th>\n",
       "      <td>2497.198519</td>\n",
       "      <td>2496.449951</td>\n",
       "    </tr>\n",
       "    <tr>\n",
       "      <th>15</th>\n",
       "      <td>2458.618266</td>\n",
       "      <td>2506.500000</td>\n",
       "    </tr>\n",
       "    <tr>\n",
       "      <th>16</th>\n",
       "      <td>2547.087429</td>\n",
       "      <td>2550.250000</td>\n",
       "    </tr>\n",
       "    <tr>\n",
       "      <th>17</th>\n",
       "      <td>2609.736575</td>\n",
       "      <td>2584.500000</td>\n",
       "    </tr>\n",
       "    <tr>\n",
       "      <th>18</th>\n",
       "      <td>2625.749111</td>\n",
       "      <td>2588.750000</td>\n",
       "    </tr>\n",
       "    <tr>\n",
       "      <th>19</th>\n",
       "      <td>2576.760807</td>\n",
       "      <td>2638.750000</td>\n",
       "    </tr>\n",
       "  </tbody>\n",
       "</table>\n",
       "</div>"
      ],
      "text/plain": [
       "    Predicted_Close  Actual_Close\n",
       "0       2215.427875   2201.250000\n",
       "1       2245.451380   2248.000000\n",
       "2       2348.532081   2325.850098\n",
       "3       2334.521112   2336.350098\n",
       "4       2339.575117   2352.000000\n",
       "5       2353.535998   2355.500000\n",
       "6       2366.546184   2376.050049\n",
       "7       2375.553235   2377.050049\n",
       "8       2494.646472   2453.800049\n",
       "9       2450.611998   2471.899902\n",
       "10      2484.088157   2479.350098\n",
       "11      2499.600301   2480.300049\n",
       "12      2476.131977   2484.149902\n",
       "13      2497.098343   2496.449951\n",
       "14      2497.198519   2496.449951\n",
       "15      2458.618266   2506.500000\n",
       "16      2547.087429   2550.250000\n",
       "17      2609.736575   2584.500000\n",
       "18      2625.749111   2588.750000\n",
       "19      2576.760807   2638.750000"
      ]
     },
     "execution_count": 19,
     "metadata": {},
     "output_type": "execute_result"
    }
   ],
   "source": [
    "df2 = df2.reset_index(drop = True)\n",
    "df2 = df2.sort_values(\"Actual_Close\").reset_index(drop = True)\n",
    "df2"
   ]
  },
  {
   "cell_type": "code",
   "execution_count": 20,
   "id": "70bf1326-651c-4f53-922e-1b32231433ba",
   "metadata": {},
   "outputs": [
    {
     "data": {
      "image/png": "[encoded data removed]",
      "text/plain": [
       "<Figure size 1600x800 with 2 Axes>"
      ]
     },
     "metadata": {},
     "output_type": "display_data"
    }
   ],
   "source": [
    "fig, axes = plt.subplots(1, 2, figsize=(16, 8))\n",
    "axes[0].plot(df2[\"Actual_Close\"],df2[\"Predicted_Close\"])\n",
    "axes[0].set_xlabel(\"Actual Close\")\n",
    "axes[0].set_ylabel(\"Predicted_Close\")\n",
    "axes[0].set_title('Relation')\n",
    "x = y = np.array([i for i in range(0,2700)])\n",
    "axes[1].plot(x,y)\n",
    "axes[1].set_xlabel(\"Actual Close\")\n",
    "axes[1].set_ylabel(\"Predicted_Close\")\n",
    "axes[1].set_title('X = Y Graph for Comparision');"
   ]
  }
 ],
 "metadata": {
  "kernelspec": {
   "display_name": "Python 3 (ipykernel)",
   "language": "python",
   "name": "python3"
  },
  "language_info": {
   "codemirror_mode": {
    "name": "ipython",
    "version": 3
   },
   "file_extension": ".py",
   "mimetype": "text/x-python",
   "name": "python",
   "nbconvert_exporter": "python",
   "pygments_lexer": "ipython3",
   "version": "3.11.4"
  }
 },
 "nbformat": 4,
 "nbformat_minor": 5
}
